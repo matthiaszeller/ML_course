{
 "cells": [
  {
   "cell_type": "code",
   "execution_count": 1,
   "metadata": {},
   "outputs": [],
   "source": [
    "# Useful starting lines\n",
    "%matplotlib inline\n",
    "\n",
    "import numpy as np\n",
    "import scipy\n",
    "import scipy.io\n",
    "import scipy.sparse as sp\n",
    "import matplotlib.pyplot as plt\n",
    "%load_ext autoreload\n",
    "%autoreload 2"
   ]
  },
  {
   "cell_type": "markdown",
   "metadata": {},
   "source": [
    "Implement the sigmoid activation function."
   ]
  },
  {
   "cell_type": "code",
   "execution_count": 2,
   "metadata": {
    "collapsed": false,
    "jupyter": {
     "outputs_hidden": false
    }
   },
   "outputs": [],
   "source": [
    "def sigmoid(t):\n",
    "    \"\"\"apply sigmoid function on t.\"\"\"\n",
    "    return 1 / (1 + np.exp(-t))\n",
    "    \n",
    "def grad_sigmoid(t):\n",
    "    \"\"\"return the gradient of sigmoid on t.\"\"\"\n",
    "    return sigmoid(t) * (1 - sigmoid(t))"
   ]
  },
  {
   "cell_type": "markdown",
   "metadata": {},
   "source": [
    "Note that you are working on a three-layer neural network with one input layer of size $D=4$, $L=1$ hidden layer with size $K=5$, and one output layer with size 1.\n",
    "\n",
    "Initialize the data."
   ]
  },
  {
   "cell_type": "code",
   "execution_count": 3,
   "metadata": {
    "collapsed": false,
    "jupyter": {
     "outputs_hidden": false
    }
   },
   "outputs": [],
   "source": [
    "x = np.array([0.01, 0.02, 0.03, 0.04])\n",
    "W = {\n",
    "    \"w_1\": np.ones((4, 5)),\n",
    "    \"w_2\": np.ones(5)\n",
    "}\n",
    "y = 1"
   ]
  },
  {
   "cell_type": "markdown",
   "metadata": {},
   "source": [
    "# Problem 1: Feed-forward in neural network\n",
    "\n",
    "Implement the neural network described by Equation 1 of the exercise sheet."
   ]
  },
  {
   "cell_type": "markdown",
   "metadata": {},
   "source": [
    "---\n",
    "\n",
    "In matrix form, we write:\n",
    "\n",
    "$$\n",
    "\\mathbf x^{(l)} = \\phi \\left(\\mathbf z^{(l)} \\right) = \\phi \\left( \\left(W^{(l)}\\right)^\\top \\mathbf x^{(l-1)} \\right)$$\n",
    "\n",
    "---"
   ]
  },
  {
   "cell_type": "code",
   "execution_count": 4,
   "metadata": {
    "collapsed": false,
    "jupyter": {
     "outputs_hidden": false
    }
   },
   "outputs": [
    {
     "name": "stdout",
     "output_type": "stream",
     "text": [
      "Your implementation is correct!\n"
     ]
    }
   ],
   "source": [
    "def simple_feed_forward(x, W):\n",
    "    \"\"\"Do feed-forward propagation.\"\"\"\n",
    "    z1 = W['w_1'].T.dot(x)\n",
    "    x1 = sigmoid(z1)\n",
    "    \n",
    "    z2 = W['w_2'].dot(x1)\n",
    "    y_hat = sigmoid(z2)\n",
    "    \n",
    "    return y_hat\n",
    "\n",
    "try:\n",
    "    expected = 0.93244675427215695\n",
    "    yours = simple_feed_forward(x, W)\n",
    "    assert np.sum((yours - expected) ** 2) < 1e-15\n",
    "    print(\"Your implementation is correct!\")\n",
    "except:\n",
    "    print(\"Your implementation is not correct.\")"
   ]
  },
  {
   "cell_type": "markdown",
   "metadata": {},
   "source": [
    "# Problem 2: Backpropagation in neural network\n",
    "\n",
    "Implement your derivation of backpropagation. \n",
    "\n",
    "*Hint*: You might want to slightly change `simple_feed_forward`."
   ]
  },
  {
   "cell_type": "markdown",
   "metadata": {},
   "source": [
    "---\n",
    "\n",
    "We use squared error as loss function, with a single sample in our case:\n",
    "\n",
    "$$\\mathcal L(\\mathbf w) = \\frac 1 2 \\left( \\hat y - y \\right) ^ 2$$"
   ]
  },
  {
   "cell_type": "markdown",
   "metadata": {},
   "source": [
    "We are asked to compute the derivatives\n",
    "\n",
    "$$\\frac {\\partial \\mathcal L(\\mathbf w)} {\\partial w_{i,1}^{(2)}}, \\quad \\frac {\\partial \\mathcal L(\\mathbf w)} {\\partial w_{i,j}^{(1)}}$$"
   ]
  },
  {
   "cell_type": "markdown",
   "metadata": {},
   "source": [
    "We have:\n",
    "\n",
    "$$\\frac{\\partial \\mathcal L}{\\partial w_{i1}^{(2)}} \n",
    "= \\delta_1^{(2)} x_i^{(1)}, \\quad \\delta_1^{(2)} = \\frac{\\partial \\mathcal L}{\\partial z_1^{(2)}}$$\n"
   ]
  },
  {
   "cell_type": "markdown",
   "metadata": {},
   "source": [
    "and:\n",
    "\n",
    "$$\\frac{\\partial \\mathcal L}{\\partial w_{ij}^{(2)}} \n",
    "= \\delta_1^{(2)} w_{j,1}^{(2)} \\, \\phi' \\left( z_j^{(1)} \\right)  \\, x_i^{(0)}$$"
   ]
  },
  {
   "cell_type": "markdown",
   "metadata": {},
   "source": [
    "---"
   ]
  },
  {
   "cell_type": "code",
   "execution_count": 5,
   "metadata": {},
   "outputs": [],
   "source": [
    "def simple_feed_forward(x, W):\n",
    "    \"\"\"Do feed-forward propagation.\"\"\"\n",
    "    z1 = W['w_1'].T.dot(x)\n",
    "    x1 = sigmoid(z1)\n",
    "    \n",
    "    z2 = W['w_2'].dot(x1)\n",
    "    y_hat = sigmoid(z2)\n",
    "    \n",
    "    return y_hat, z1, z2"
   ]
  },
  {
   "cell_type": "code",
   "execution_count": 6,
   "metadata": {
    "collapsed": false,
    "jupyter": {
     "outputs_hidden": false
    }
   },
   "outputs": [
    {
     "name": "stdout",
     "output_type": "stream",
     "text": [
      "Your implementation is correct!\n"
     ]
    }
   ],
   "source": [
    "def simple_backpropagation(y, x, W):\n",
    "    \"\"\"Do backpropagation and get delta_W.\"\"\"\n",
    "    y_hat, z1, z2 = simple_feed_forward(x, W)\n",
    "    \n",
    "    delta_2 = (y_hat - y) * grad_sigmoid(z2)\n",
    "    x1 = sigmoid(z1)\n",
    "    delta_w_2 = delta_2 * x1\n",
    "    \n",
    "    delta_1 = delta_2 * W['w_2'] * grad_sigmoid(z1)\n",
    "    x0 = x\n",
    "    delta_w_1 = np.outer(x, delta_1)\n",
    "    # TODO: why not correct ???\n",
    "    #delta_1.reshape(-1, 1).dot(x0.reshape(1, -1))\n",
    "    \n",
    "    return {\n",
    "        \"w_1\": delta_w_1,\n",
    "        \"w_2\": delta_w_2\n",
    "    }\n",
    "    \n",
    "try:\n",
    "    expected = {\n",
    "        'w_1': np.array([\n",
    "            [ -1.06113639e-05,  -1.06113639e-05,  -1.06113639e-05, -1.06113639e-05,  -1.06113639e-05],\n",
    "            [ -2.12227277e-05,  -2.12227277e-05,  -2.12227277e-05, -2.12227277e-05,  -2.12227277e-05],\n",
    "            [ -3.18340916e-05,  -3.18340916e-05,  -3.18340916e-05, -3.18340916e-05,  -3.18340916e-05],\n",
    "            [ -4.24454555e-05,  -4.24454555e-05,  -4.24454555e-05, -4.24454555e-05,  -4.24454555e-05]]),\n",
    "        'w_2': np.array(\n",
    "            [-0.00223387, -0.00223387, -0.00223387, -0.00223387, -0.00223387])\n",
    "    }\n",
    "    yours = simple_backpropagation(y, x, W)\n",
    "    assert np.sum(\n",
    "        [np.sum((yours[key] - expected[key]) ** 2)\n",
    "         for key in expected.keys()]) < 1e-15\n",
    "    print(\"Your implementation is correct!\")\n",
    "except:\n",
    "    print(yours['w_2'])\n",
    "    print(\"Your implementation is NOT correct!\")"
   ]
  }
 ],
 "metadata": {
  "anaconda-cloud": {},
  "kernelspec": {
   "display_name": "Python 3",
   "language": "python",
   "name": "python3"
  },
  "language_info": {
   "codemirror_mode": {
    "name": "ipython",
    "version": 3
   },
   "file_extension": ".py",
   "mimetype": "text/x-python",
   "name": "python",
   "nbconvert_exporter": "python",
   "pygments_lexer": "ipython3",
   "version": "3.8.5"
  }
 },
 "nbformat": 4,
 "nbformat_minor": 4
}
