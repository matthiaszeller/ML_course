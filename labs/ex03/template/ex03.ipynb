{
 "cells": [
  {
   "cell_type": "code",
   "execution_count": 1,
   "metadata": {},
   "outputs": [],
   "source": [
    "# Useful starting lines\n",
    "%matplotlib inline\n",
    "import numpy as np\n",
    "import matplotlib.pyplot as plt\n",
    "%load_ext autoreload\n",
    "%autoreload 2"
   ]
  },
  {
   "cell_type": "code",
   "execution_count": 2,
   "metadata": {},
   "outputs": [],
   "source": [
    "from math import ceil, sqrt"
   ]
  },
  {
   "cell_type": "markdown",
   "metadata": {},
   "source": [
    "# 1 Least squares and linear basis functions models\n",
    "## 1.1 Least squares"
   ]
  },
  {
   "cell_type": "markdown",
   "metadata": {},
   "source": [
    "Reminder: Least squares is the method to find the **analytical global optimum** of $\\mathcal{L}=\\text{MSE}$ applied to a linear model $f(\\mathbf{x}_n)=\\mathbf{\\tilde x}_n^\\top \\mathbf{w}$. That is, we don't need to use grid search or gradient descend to fit a linear model."
   ]
  },
  {
   "cell_type": "markdown",
   "metadata": {},
   "source": [
    "Using the **1st order optimality condition**:\n",
    "\n",
    "* MSE applied to a linear model is a **convex** function\n",
    "* $\\mathbf{w}^\\star$ such that $\\vec\\nabla \\mathcal L(\\textbf{w}^\\star) = \\mathbf 0$ is a **global optimium**"
   ]
  },
  {
   "cell_type": "markdown",
   "metadata": {},
   "source": [
    "We recall that for MSE and a linear model: $\\vec\\nabla\\mathcal L(\\mathbf w) = -\\frac{1}{N} \\tilde X^\\top \\mathbf{e}$"
   ]
  },
  {
   "cell_type": "markdown",
   "metadata": {},
   "source": [
    "We can derive from the normal equation:\n",
    "\n",
    "$$\\begin{align}\n",
    "\\vec\\nabla\\mathcal L (\\textbf{w}) = 0 &\\iff \\tilde X^\\top \\mathbf e = 0\\\\\n",
    "&\\iff  \\tilde X^\\top (\\mathbf y -  \\tilde X \\mathbf w) = 0\\\\\n",
    "&\\iff \\tilde X^\\top  \\mathbf y = \\tilde X^\\top \\tilde X \\mathbf w\\\\\n",
    "&\\iff \\mathbf w ^ \\star = \\left(\\tilde X^\\top \\tilde X\\right)^{-1} \\tilde X^\\top \\mathbf y\n",
    "\\end{align}$$"
   ]
  },
  {
   "cell_type": "markdown",
   "metadata": {},
   "source": [
    "which has a **unique solution $\\iff$ columns of $X$ are linearly independant**."
   ]
  },
  {
   "cell_type": "code",
   "execution_count": 3,
   "metadata": {},
   "outputs": [],
   "source": [
    "def least_squares(y, tx):\n",
    "    # WARNING: not robust for high condition number\n",
    "    \"\"\"calculate the least squares solution.\n",
    "    :return: optimal w\"\"\"\n",
    "    inv = np.linalg.inv(np.dot(tx.T, tx))\n",
    "    return np.dot(inv, np.dot(tx.T, y))"
   ]
  },
  {
   "cell_type": "markdown",
   "metadata": {},
   "source": [
    "### Load the data\n",
    "Here we will reuse the dataset `height_weight_genders.csv` from previous exercise section to check the correctness of your implementation. Please compare it with your previous result."
   ]
  },
  {
   "cell_type": "code",
   "execution_count": 4,
   "metadata": {},
   "outputs": [],
   "source": [
    "from helpers import *\n",
    "from time import time\n",
    "def test_your_least_squares():\n",
    "    height, weight, gender = load_data_from_ex02(sub_sample=False, add_outlier=False)\n",
    "    x, mean_x, std_x = standardize(height)\n",
    "    y, tx = build_model_data(x, weight)\n",
    "    start = time()\n",
    "    w = least_squares(y, tx)\n",
    "    print(f'Running least squares took {(time() - start)*1000:.4} ms')\n",
    "    return w"
   ]
  },
  {
   "cell_type": "markdown",
   "metadata": {},
   "source": [
    "Test it here"
   ]
  },
  {
   "cell_type": "code",
   "execution_count": 5,
   "metadata": {},
   "outputs": [
    {
     "name": "stdout",
     "output_type": "stream",
     "text": [
      "Running least squares took 22.59 ms\n"
     ]
    },
    {
     "data": {
      "text/plain": [
       "array([73.293922  , 13.47971243])"
      ]
     },
     "execution_count": 5,
     "metadata": {},
     "output_type": "execute_result"
    }
   ],
   "source": [
    "test_your_least_squares()"
   ]
  },
  {
   "cell_type": "markdown",
   "metadata": {},
   "source": [
    "The results are the same as for gradient descent."
   ]
  },
  {
   "cell_type": "markdown",
   "metadata": {},
   "source": [
    "## 1.2 Least squares with a linear basis function model\n",
    "Start from this section, we will use the dataset `dataEx3.csv`.\n",
    "\n",
    "### Implement polynomial basis functions"
   ]
  },
  {
   "cell_type": "markdown",
   "metadata": {},
   "source": [
    "We use the **extended features vector** $\\phi(x_n) = \\left[1, x_n, x_n^2, \\dots, x_n^M\\right]$ to create a **more powerful** linear model (the model is linear in $\\phi(x_n)$, not $x_n$):\n",
    "\n",
    "$$\\begin{align}\n",
    "f(x_n) &= \\phi(x_n)^\\top \\mathbf w \\\\\n",
    "&= \\textstyle \\sum_{d=0}^M (x_n)^D w_d\\\\\n",
    "&= w_0 + w_1 x_n + w_2 x_n ^ 2 + \\dots + w_M x_n^M\n",
    "\\end{align}$$"
   ]
  },
  {
   "cell_type": "markdown",
   "metadata": {},
   "source": [
    "We want `build_poly` to build the **extended feature matrix**:\n",
    "\n",
    "$$\\mathbf{\\tilde \\Phi} := \n",
    "\\begin{bmatrix}\n",
    "\\phi(x_1)\\\\\n",
    "\\vdots\\\\\n",
    "\\phi(x_N)\n",
    "\\end{bmatrix}$$"
   ]
  },
  {
   "cell_type": "code",
   "execution_count": 6,
   "metadata": {
    "scrolled": true
   },
   "outputs": [
    {
     "name": "stdout",
     "output_type": "stream",
     "text": [
      "shape of x (50,)\n",
      "shape of y (50,)\n"
     ]
    }
   ],
   "source": [
    "# load dataset\n",
    "x, y = load_data()\n",
    "print(\"shape of x {}\".format(x.shape))\n",
    "print(\"shape of y {}\".format(y.shape))"
   ]
  },
  {
   "cell_type": "code",
   "execution_count": 7,
   "metadata": {},
   "outputs": [],
   "source": [
    "def build_poly(x, degree):\n",
    "    \"\"\"polynomial basis functions for input data x, for j=0 up to j=degree.\"\"\"\n",
    "    #power_mx = np.arange(degree+1, dtype=np.uint8)[None, :] * np.ones(len(x), dtype=np.uint8)[:, None]\n",
    "    power_mx = np.tile(np.arange(degree + 1), (len(x), 1))\n",
    "    augmented_x = np.tile(np.array(x).reshape(-1, 1), (1, degree + 1))\n",
    "    return np.power(augmented_x, power_mx)"
   ]
  },
  {
   "cell_type": "code",
   "execution_count": 8,
   "metadata": {},
   "outputs": [
    {
     "data": {
      "text/plain": [
       "array([[ 1, -1,  1, -1],\n",
       "       [ 1,  1,  1,  1],\n",
       "       [ 1,  2,  4,  8]])"
      ]
     },
     "execution_count": 8,
     "metadata": {},
     "output_type": "execute_result"
    }
   ],
   "source": [
    "build_poly([-1, 1, 2], 3)"
   ]
  },
  {
   "cell_type": "markdown",
   "metadata": {},
   "source": [
    "Let us play with polynomial regression. Note that we will use your implemented function `compute_mse`. Please copy and paste your implementation from exercise02."
   ]
  },
  {
   "cell_type": "code",
   "execution_count": 9,
   "metadata": {},
   "outputs": [],
   "source": [
    "def compute_mse(y, tx, w):\n",
    "    e = y - np.matmul(tx, w)\n",
    "    return np.inner(e, e) / len(y) / 2"
   ]
  },
  {
   "cell_type": "code",
   "execution_count": 10,
   "metadata": {},
   "outputs": [],
   "source": [
    "from plots import *\n",
    "\n",
    "def polynomial_regression():\n",
    "    \"\"\"Constructing the polynomial basis function expansion of the data,\n",
    "       and then running least squares regression.\"\"\"\n",
    "    # define parameters\n",
    "    degrees = [1, 3, 11, 12]\n",
    "    \n",
    "    # define the structure of the figure\n",
    "    num_row = 2\n",
    "    num_col = 2\n",
    "    f, axs = plt.subplots(num_row, num_col)\n",
    "\n",
    "    for ind, degree in enumerate(degrees):\n",
    "        extended_X = build_poly(x, degree)\n",
    "        weights = least_squares(y, extended_X)\n",
    "        MSE = compute_mse(y, extended_X, weights)\n",
    "        rmse = (2*MSE)**0.5\n",
    "\n",
    "        print(\"Processing {i}th experiment, degree={d}, rmse={loss}\".format(\n",
    "              i=ind + 1, d=degree, loss=rmse))\n",
    "        # plot fit\n",
    "        plot_fitted_curve(\n",
    "            y, x, weights, degree, axs[ind // num_col][ind % num_col])\n",
    "    plt.tight_layout()\n",
    "    plt.savefig(\"visualize_polynomial_regression\")\n",
    "    plt.show()"
   ]
  },
  {
   "cell_type": "markdown",
   "metadata": {},
   "source": [
    "Run polynomial regression"
   ]
  },
  {
   "cell_type": "code",
   "execution_count": 11,
   "metadata": {},
   "outputs": [
    {
     "name": "stdout",
     "output_type": "stream",
     "text": [
      "Processing 1th experiment, degree=1, rmse=0.47187607963421874\n",
      "Processing 2th experiment, degree=3, rmse=0.2585827766773747\n",
      "Processing 3th experiment, degree=11, rmse=0.2555351522054776\n",
      "Processing 4th experiment, degree=12, rmse=0.9299494097866372\n"
     ]
    },
    {
     "data": {
      "image/png": "[encoded data removed]",
      "text/plain": [
       "<Figure size 432x288 with 4 Axes>"
      ]
     },
     "metadata": {
      "needs_background": "light"
     },
     "output_type": "display_data"
    }
   ],
   "source": [
    "# linalg.solve\n",
    "polynomial_regression()"
   ]
  },
  {
   "cell_type": "markdown",
   "metadata": {},
   "source": [
    "Let's investigate this weird behaviour that we get with degree 12:"
   ]
  },
  {
   "cell_type": "code",
   "execution_count": 12,
   "metadata": {},
   "outputs": [
    {
     "data": {
      "image/png": "[encoded data removed]",
      "text/plain": [
       "<Figure size 432x288 with 1 Axes>"
      ]
     },
     "metadata": {
      "needs_background": "light"
     },
     "output_type": "display_data"
    }
   ],
   "source": [
    "condition_nums = {\n",
    "    degree: np.linalg.cond(build_poly(x, degree))\n",
    "    for degree in range(15)\n",
    "}\n",
    "plt.semilogy(range(15), list(condition_nums.values()), '-o')\n",
    "plt.xlabel('Degree')\n",
    "plt.ylabel(r'$\\kappa(\\tilde X)$');"
   ]
  },
  {
   "cell_type": "markdown",
   "metadata": {},
   "source": [
    "We see that the condition number $\\kappa(\\tilde X)$ blows up when the degree of the extended polynomial matrix increases. We should therefore use a more robust way of solving the linear system $\\tilde X^\\top  \\mathbf y = \\tilde X^\\top \\tilde X \\mathbf w$: `np.linalg.solve`."
   ]
  },
  {
   "cell_type": "code",
   "execution_count": 13,
   "metadata": {},
   "outputs": [],
   "source": [
    "def least_squares(y, tx):\n",
    "    \"\"\"calculate the least squares solution. \n",
    "    Uses `linalg.solve` to increase robustness against high condition numbers.\n",
    "    :return: optimal w\"\"\"\n",
    "    return np.linalg.solve(tx.T.dot(tx), tx.T.dot(y))"
   ]
  },
  {
   "cell_type": "code",
   "execution_count": 14,
   "metadata": {},
   "outputs": [
    {
     "name": "stdout",
     "output_type": "stream",
     "text": [
      "Processing 1th experiment, degree=1, rmse=0.47187607963421874\n",
      "Processing 2th experiment, degree=3, rmse=0.2585827766773748\n",
      "Processing 3th experiment, degree=11, rmse=0.24452913643990384\n",
      "Processing 4th experiment, degree=12, rmse=0.24328247481248674\n"
     ]
    },
    {
     "data": {
      "image/png": "[encoded data removed]",
      "text/plain": [
       "<Figure size 432x288 with 4 Axes>"
      ]
     },
     "metadata": {
      "needs_background": "light"
     },
     "output_type": "display_data"
    }
   ],
   "source": [
    "polynomial_regression()"
   ]
  },
  {
   "cell_type": "markdown",
   "metadata": {},
   "source": [
    "Which is much better!"
   ]
  },
  {
   "cell_type": "markdown",
   "metadata": {},
   "source": [
    "### Test least squares on data from ex 2"
   ]
  },
  {
   "cell_type": "code",
   "execution_count": 15,
   "metadata": {},
   "outputs": [],
   "source": [
    "height, weight, _ = load_data_from_ex02(sub_sample=False)\n",
    "x, _, _ = standardize(height)\n",
    "y, tx = build_model_data(x, weight)"
   ]
  },
  {
   "cell_type": "code",
   "execution_count": 16,
   "metadata": {},
   "outputs": [
    {
     "data": {
      "text/plain": [
       "array([73.293922  , 13.47971243])"
      ]
     },
     "execution_count": 16,
     "metadata": {},
     "output_type": "execute_result"
    }
   ],
   "source": [
    "w_star = least_squares(y, tx)\n",
    "w_star"
   ]
  },
  {
   "cell_type": "code",
   "execution_count": 17,
   "metadata": {},
   "outputs": [
    {
     "data": {
      "image/png": "[encoded data removed]",
      "text/plain": [
       "<Figure size 432x288 with 1 Axes>"
      ]
     },
     "metadata": {
      "needs_background": "light"
     },
     "output_type": "display_data"
    }
   ],
   "source": [
    "plt.scatter(x, y, s=2)\n",
    "xgrid = np.linspace(x.min(), x.max(), 100)\n",
    "plt.plot(xgrid, w_star[0] + w_star[1] * xgrid, 'r');"
   ]
  },
  {
   "cell_type": "markdown",
   "metadata": {},
   "source": [
    "# 2 Evaluating model predication performance\n",
    "\n",
    "\n",
    "Let us show the train and test splits for various polynomial degrees. First of all, please fill in the function `split_data()`"
   ]
  },
  {
   "cell_type": "code",
   "execution_count": 18,
   "metadata": {},
   "outputs": [],
   "source": [
    "def split_data(x, y, ratio, seed=1):\n",
    "    \"\"\"\n",
    "    split the dataset based on the split ratio. If ratio is 0.8 \n",
    "    you will have 80% of your data set dedicated to training \n",
    "    and the rest dedicated to testing\n",
    "    :return: (xtrain, ytrain, xtest, ytest)\n",
    "    \"\"\"\n",
    "    N = len(x)\n",
    "    # Shuffle indices\n",
    "    np.random.seed(seed)\n",
    "    shuffling_indices = np.random.permutation(N)\n",
    "    x = x[shuffling_indices]\n",
    "    y = y[shuffling_indices]\n",
    "    # Split index\n",
    "    sid = ceil(N * ratio)\n",
    "    \n",
    "    return x[:sid], y[:sid], x[sid:], y[sid:]"
   ]
  },
  {
   "cell_type": "code",
   "execution_count": 19,
   "metadata": {},
   "outputs": [
    {
     "data": {
      "text/plain": [
       "(array([3, 2, 0]), array([0, 1, 0]), array([1]), array([1]))"
      ]
     },
     "execution_count": 19,
     "metadata": {},
     "output_type": "execute_result"
    }
   ],
   "source": [
    "split_data(\n",
    "    np.array([0, 1, 2, 3]),\n",
    "    np.array([0, 1, 1, 0]),\n",
    "    0.7\n",
    ")"
   ]
  },
  {
   "cell_type": "markdown",
   "metadata": {},
   "source": [
    "Then, test your `split_data` function below."
   ]
  },
  {
   "cell_type": "code",
   "execution_count": 20,
   "metadata": {},
   "outputs": [],
   "source": [
    "def train_test_split_demo(x, y, degree, ratio, seed):\n",
    "    \"\"\"polynomial regression with different split ratios and different degrees.\"\"\"\n",
    "    xtrain, ytrain, xtest, ytest = split_data(x, y, ratio, seed)\n",
    "    \n",
    "    xtrain_poly = build_poly(xtrain, degree)\n",
    "    xtest_poly = build_poly(xtest, degree)\n",
    "    \n",
    "    w = least_squares(ytrain, xtrain_poly)\n",
    "    \n",
    "    rmse_tr = (2*compute_mse(ytrain, xtrain_poly, w)) ** 0.5\n",
    "    rmse_te = (2*compute_mse(ytest, xtest_poly, w)) ** 0.5\n",
    "    \n",
    "    print(\"proportion={p}, degree={d}, Training RMSE={tr:.3f}, Testing RMSE={te:.3f}\".format(\n",
    "          p=ratio, d=degree, tr=rmse_tr, te=rmse_te))"
   ]
  },
  {
   "cell_type": "code",
   "execution_count": 21,
   "metadata": {},
   "outputs": [
    {
     "name": "stdout",
     "output_type": "stream",
     "text": [
      "proportion=0.9, degree=1, Training RMSE=5.539, Testing RMSE=5.626\n",
      "proportion=0.9, degree=3, Training RMSE=5.491, Testing RMSE=5.568\n",
      "proportion=0.9, degree=7, Training RMSE=5.470, Testing RMSE=5.525\n",
      "proportion=0.9, degree=12, Training RMSE=5.467, Testing RMSE=5.576\n",
      "proportion=0.5, degree=1, Training RMSE=5.581, Testing RMSE=5.514\n",
      "proportion=0.5, degree=3, Training RMSE=5.526, Testing RMSE=5.472\n",
      "proportion=0.5, degree=7, Training RMSE=5.500, Testing RMSE=5.452\n",
      "proportion=0.5, degree=12, Training RMSE=5.493, Testing RMSE=5.472\n",
      "proportion=0.1, degree=1, Training RMSE=5.505, Testing RMSE=5.557\n",
      "proportion=0.1, degree=3, Training RMSE=5.478, Testing RMSE=5.512\n",
      "proportion=0.1, degree=7, Training RMSE=5.453, Testing RMSE=5.498\n",
      "proportion=0.1, degree=12, Training RMSE=5.440, Testing RMSE=6.077\n"
     ]
    }
   ],
   "source": [
    "seed = 6\n",
    "degrees = [1, 3, 7, 12]\n",
    "split_ratios = [0.9, 0.5, 0.1]\n",
    "\n",
    "for split_ratio in split_ratios:\n",
    "    for degree in degrees:\n",
    "        train_test_split_demo(x, y, degree, split_ratio, seed)"
   ]
  },
  {
   "cell_type": "markdown",
   "metadata": {},
   "source": [
    "# 3 Ridge Regression\n",
    "Please fill in the function below."
   ]
  },
  {
   "cell_type": "code",
   "execution_count": 37,
   "metadata": {},
   "outputs": [],
   "source": [
    "x, y = load_data()"
   ]
  },
  {
   "cell_type": "markdown",
   "metadata": {},
   "source": [
    "Ridge regularization defines a special type of regularizer applied to a linear model. It helps to:\n",
    "\n",
    "* limit overfitting\n",
    "* fight ill-conditionning / collinearity problems, i.e. when columns of $X$ are almost collinear"
   ]
  },
  {
   "cell_type": "markdown",
   "metadata": {},
   "source": [
    "The regularizer of ridge regression is defined as the $L_2$-norm of the weight vector:\n",
    "\n",
    "$$\\Omega(\\mathbf w) = \\lambda \\Vert\\mathbf w \\Vert_2^2$$"
   ]
  },
  {
   "cell_type": "markdown",
   "metadata": {},
   "source": [
    "so that the function to mininmize is \n",
    "\n",
    "$$\\begin{align}\n",
    "\\mathcal P(\\mathbf w) &= \\mathcal L(\\mathbf w) + \\Omega(\\mathbf w)\\\\\n",
    "&= \\frac{1}{2N} \\mathbf e^\\top  \\mathbf e + \\lambda \\Vert\\mathbf w \\Vert_2^2\n",
    "\\end{align}$$"
   ]
  },
  {
   "cell_type": "markdown",
   "metadata": {},
   "source": [
    "The function $\\mathcal P$ is convex, so by the 1st order optimality condition:\n",
    "\n",
    "$$\\vec \\nabla \\mathcal P(\\mathbf w) = 0 \\iff \\left( X^\\top X + \\lambda' I \\right)\\mathbf w = X^\\top \\mathbf y, \\quad \\lambda' = 2N \\lambda$$"
   ]
  },
  {
   "cell_type": "markdown",
   "metadata": {},
   "source": [
    "which always has a unique solution since the inverse of $\\left( X^\\top X + \\lambda' I \\right)$ always exist (eigenvalues are at least $\\lambda' > 0$)."
   ]
  },
  {
   "cell_type": "code",
   "execution_count": 38,
   "metadata": {},
   "outputs": [],
   "source": [
    "def compute_rmse(y, tX, w):\n",
    "    mse = compute_mse(y, tX, w)\n",
    "    return sqrt(2*mse)"
   ]
  },
  {
   "cell_type": "code",
   "execution_count": 43,
   "metadata": {},
   "outputs": [],
   "source": [
    "def ridge_regression_inv(y, tx, lambda_):\n",
    "    \"\"\"implement ridge regression.\"\"\"\n",
    "    N, D = tx.shape\n",
    "    inv = tx.T.dot(tx) + 2 * N * lambda_ * np.eye(D)\n",
    "    inv = np.linalg.inv(inv)\n",
    "    return inv.dot(tx.T).dot(y)"
   ]
  },
  {
   "cell_type": "code",
   "execution_count": 44,
   "metadata": {},
   "outputs": [],
   "source": [
    "def ridge_regression(y, tx, lambda_):\n",
    "    \"\"\"implement ridge regression.\"\"\"\n",
    "    N, D = tx.shape\n",
    "    left = tx.T.dot(tx) + 2 * N * lambda_ * np.eye(D)\n",
    "    right = tx.T.dot(y)\n",
    "    return np.linalg.solve(left, right)"
   ]
  },
  {
   "cell_type": "code",
   "execution_count": 45,
   "metadata": {},
   "outputs": [],
   "source": [
    "def ridge_regression_demo(x, y, degree, ratio, seed):\n",
    "    \"\"\"ridge regression demo.\"\"\"\n",
    "    # define parameter\n",
    "    lambdas = np.logspace(-5, 0, 15)\n",
    "    \n",
    "    xtrain, ytrain, xtest, ytest = split_data(x, y, ratio, seed)\n",
    "    \n",
    "    txtrain = build_poly(xtrain, degree)\n",
    "    txtest = build_poly(xtest, degree)\n",
    "\n",
    "    rmse_tr = []\n",
    "    rmse_te = []\n",
    "    for ind, lambda_ in enumerate(lambdas):\n",
    "        w = ridge_regression(ytrain, txtrain, lambda_)\n",
    "        \n",
    "        rmse_tr.append(compute_rmse(ytrain, txtrain, w))\n",
    "        rmse_te.append(compute_rmse(ytest, txtest, w))\n",
    "        print(\"proportion={p}, degree={d}, lambda={l:.3f}, Training RMSE={tr:.3f}, Testing RMSE={te:.3f}\".format(\n",
    "               p=ratio, d=degree, l=lambda_, tr=rmse_tr[ind], te=rmse_te[ind]))\n",
    "        \n",
    "    # Plot the obtained results\n",
    "    plot_train_test(rmse_tr, rmse_te, lambdas, degree)"
   ]
  },
  {
   "cell_type": "code",
   "execution_count": 46,
   "metadata": {},
   "outputs": [
    {
     "name": "stdout",
     "output_type": "stream",
     "text": [
      "proportion=0.5, degree=7, lambda=0.000, Training RMSE=0.227, Testing RMSE=0.338\n",
      "proportion=0.5, degree=7, lambda=0.000, Training RMSE=0.227, Testing RMSE=0.337\n",
      "proportion=0.5, degree=7, lambda=0.000, Training RMSE=0.227, Testing RMSE=0.336\n",
      "proportion=0.5, degree=7, lambda=0.000, Training RMSE=0.227, Testing RMSE=0.335\n",
      "proportion=0.5, degree=7, lambda=0.000, Training RMSE=0.228, Testing RMSE=0.334\n",
      "proportion=0.5, degree=7, lambda=0.001, Training RMSE=0.228, Testing RMSE=0.333\n",
      "proportion=0.5, degree=7, lambda=0.001, Training RMSE=0.229, Testing RMSE=0.329\n",
      "proportion=0.5, degree=7, lambda=0.003, Training RMSE=0.230, Testing RMSE=0.319\n",
      "proportion=0.5, degree=7, lambda=0.007, Training RMSE=0.232, Testing RMSE=0.302\n",
      "proportion=0.5, degree=7, lambda=0.016, Training RMSE=0.237, Testing RMSE=0.283\n",
      "proportion=0.5, degree=7, lambda=0.037, Training RMSE=0.246, Testing RMSE=0.276\n",
      "proportion=0.5, degree=7, lambda=0.085, Training RMSE=0.264, Testing RMSE=0.298\n",
      "proportion=0.5, degree=7, lambda=0.193, Training RMSE=0.291, Testing RMSE=0.348\n",
      "proportion=0.5, degree=7, lambda=0.439, Training RMSE=0.317, Testing RMSE=0.401\n",
      "proportion=0.5, degree=7, lambda=1.000, Training RMSE=0.336, Testing RMSE=0.441\n"
     ]
    },
    {
     "data": {
      "image/png": "[encoded data removed]",
      "text/plain": [
       "<Figure size 432x288 with 1 Axes>"
      ]
     },
     "metadata": {
      "needs_background": "light"
     },
     "output_type": "display_data"
    }
   ],
   "source": [
    "seed = 56\n",
    "degree = 7\n",
    "split_ratio = 0.5\n",
    "ridge_regression_demo(x, y, degree, split_ratio, seed)"
   ]
  },
  {
   "cell_type": "markdown",
   "metadata": {},
   "source": [
    "# Theoretical exercises"
   ]
  },
  {
   "cell_type": "markdown",
   "metadata": {},
   "source": [
    "## Condition number an ill-conditionning\n",
    "\n",
    "The condition number of the matrix $A$ can be defined as \n",
    "\n",
    "$$\\kappa(A) := \\Vert A^{-1} \\Vert \\cdot \\Vert A \\Vert$$"
   ]
  },
  {
   "cell_type": "markdown",
   "metadata": {},
   "source": [
    "where the norm of a matrix is defined in terms of a vector norm on $\\mathbb R^n$:\n",
    "\n",
    "$$\n",
    "\\Vert A \\Vert := \\sup_{\\mathbf x\\in \\mathbb R^n,  \\mathbf x \\neq \\mathbf 0} \\frac{\\Vert A\\mathbf x\\Vert}{\\Vert \\mathbf x \\Vert}\n",
    "$$"
   ]
  },
  {
   "cell_type": "markdown",
   "metadata": {},
   "source": [
    "If $A$ is normal, then \n",
    "\n",
    "$$\\kappa(A) = \\frac{|\\lambda_{max}(A)|}{|\\lambda_{min}(A)|}$$"
   ]
  },
  {
   "cell_type": "markdown",
   "metadata": {},
   "source": [
    "The spectral theorem states that $A$ is normal $\\iff$ $A$ is diagonalizable. \n",
    "\n",
    "### Diagonalization\n",
    "\n",
    "The **theorem of diagonalization** tells us that an square matrix $A \\in \\mathbb R^{n\\times n}$ is diagonalizable $\\iff$ $A$ has $n$ linearly independant eigenvectors."
   ]
  },
  {
   "cell_type": "markdown",
   "metadata": {},
   "source": [
    "Another theorem tells us that $A$ is diagonalizable $\\iff$ the sum of the dimensions of the distinct eigenspaces of $A$ is equal to n, which can be formulated as:\n",
    "\n",
    "$$A \\text{ is diagonalizable} \\iff \\textstyle \\sum_i \\text{dim}\\left(\\text{Eig}_{\\lambda_i}(A)\\right) = n$$"
   ]
  },
  {
   "cell_type": "markdown",
   "metadata": {},
   "source": [
    "with $\\text{Eig}_{\\lambda_i}(A)$ the eigenspace of $A$ for the eigenvalue $\\lambda_i$:\n",
    "\n",
    "$$\\text{Eig}_{\\lambda}(A) = \\left\\{\\mathbf v \\in \\mathbb R ^n | A\\mathbf v = \\lambda \\mathbf v\\right\\} \\subseteq \\mathbb R^n$$"
   ]
  },
  {
   "cell_type": "markdown",
   "metadata": {},
   "source": [
    "See [here](https://math.stackexchange.com/questions/320220/intuitively-what-is-the-difference-between-eigendecomposition-and-singular-valu) to get the feeling of the difference between eigenvalue decomposition and singular value decomposiion. "
   ]
  },
  {
   "cell_type": "markdown",
   "metadata": {},
   "source": [
    "### Example - condition number\n",
    "\n"
   ]
  },
  {
   "cell_type": "markdown",
   "metadata": {},
   "source": [
    "We consider a 2D linear model:\n",
    "\n",
    "* $\\mathbf w = (w_1, w_2)$\n",
    "* $y = f(\\mathbf x) = x_1w_1 + x_2 w_2$"
   ]
  },
  {
   "cell_type": "markdown",
   "metadata": {},
   "source": [
    "The first dataset is:\n",
    "\n",
    "$$X = \\begin{bmatrix}\n",
    "400 & -201 \\\\\n",
    "-800 & 401\n",
    "\\end{bmatrix}, \n",
    "y = (200, -200)^\\top$$"
   ]
  },
  {
   "cell_type": "code",
   "execution_count": 26,
   "metadata": {},
   "outputs": [],
   "source": [
    "X = np.array([[400, -201], [-800, 401]])\n",
    "y = np.array([200, -200])"
   ]
  },
  {
   "cell_type": "code",
   "execution_count": 27,
   "metadata": {},
   "outputs": [
    {
     "name": "stdout",
     "output_type": "stream",
     "text": [
      "[-4.99064837e-01  8.01499065e+02]\n"
     ]
    },
    {
     "data": {
      "text/plain": [
       "(1606.0018773357358, 2503.0046004808573)"
      ]
     },
     "execution_count": 27,
     "metadata": {},
     "output_type": "execute_result"
    }
   ],
   "source": [
    "lambdas = np.linalg.eigvals(X)\n",
    "print(lambdas)\n",
    "abs(lambdas.max() / lambdas.min()), np.linalg.cond(X)"
   ]
  },
  {
   "cell_type": "code",
   "execution_count": 28,
   "metadata": {},
   "outputs": [
    {
     "data": {
      "text/plain": [
       "array([-100., -200.])"
      ]
     },
     "execution_count": 28,
     "metadata": {},
     "output_type": "execute_result"
    }
   ],
   "source": [
    "np.linalg.solve(X, y)"
   ]
  },
  {
   "cell_type": "markdown",
   "metadata": {},
   "source": [
    "We get $\\mathbf w = (-100, 200)^\\top$."
   ]
  },
  {
   "cell_type": "markdown",
   "metadata": {},
   "source": [
    "The second dataset is \n",
    "$$X = \\begin{bmatrix}\n",
    "401 & -201 \\\\\n",
    "-800 & 401\n",
    "\\end{bmatrix}, \n",
    "y = (200, -200)^\\top$$"
   ]
  },
  {
   "cell_type": "code",
   "execution_count": 29,
   "metadata": {},
   "outputs": [],
   "source": [
    "X = np.array([[401, -201], [-800, 401]])\n",
    "y = np.array([200, -200])"
   ]
  },
  {
   "cell_type": "code",
   "execution_count": 30,
   "metadata": {},
   "outputs": [
    {
     "data": {
      "text/plain": [
       "(643201.9999918083, 1002003.0000501256)"
      ]
     },
     "execution_count": 30,
     "metadata": {},
     "output_type": "execute_result"
    }
   ],
   "source": [
    "lambdas = np.abs(np.linalg.eigvals(X))\n",
    "lambdas.max() / lambdas.min(), np.linalg.cond(X)"
   ]
  },
  {
   "cell_type": "code",
   "execution_count": 31,
   "metadata": {},
   "outputs": [
    {
     "data": {
      "text/plain": [
       "(400.49890916618557, 400.3200792589949)"
      ]
     },
     "execution_count": 31,
     "metadata": {},
     "output_type": "execute_result"
    }
   ],
   "source": [
    "643201.9999918083/1606.0018773357358, 1002003.0000501256/2503.0046004808573"
   ]
  },
  {
   "cell_type": "code",
   "execution_count": 32,
   "metadata": {},
   "outputs": [
    {
     "data": {
      "text/plain": [
       "array([40000.00000034, 79800.00000068])"
      ]
     },
     "execution_count": 32,
     "metadata": {},
     "output_type": "execute_result"
    }
   ],
   "source": [
    "np.linalg.solve(X, y)"
   ]
  },
  {
   "cell_type": "markdown",
   "metadata": {},
   "source": [
    "We get a much bigger $\\mathbf w$. Note that the condition number $\\kappa(X)$ is much bigger in the second dataset."
   ]
  }
 ],
 "metadata": {
  "anaconda-cloud": {},
  "kernelspec": {
   "display_name": "Python 3",
   "language": "python",
   "name": "python3"
  },
  "language_info": {
   "codemirror_mode": {
    "name": "ipython",
    "version": 3
   },
   "file_extension": ".py",
   "mimetype": "text/x-python",
   "name": "python",
   "nbconvert_exporter": "python",
   "pygments_lexer": "ipython3",
   "version": "3.7.7"
  }
 },
 "nbformat": 4,
 "nbformat_minor": 4
}
