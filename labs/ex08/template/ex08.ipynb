{
 "cells": [
  {
   "cell_type": "code",
   "execution_count": 1,
   "metadata": {},
   "outputs": [],
   "source": [
    "# Useful starting lines\n",
    "%matplotlib inline\n",
    "import numpy as np\n",
    "import matplotlib.pyplot as plt\n",
    "import torch\n",
    "import torch.nn as nn\n",
    "from torch.autograd import Variable\n",
    "%load_ext autoreload\n",
    "%autoreload 2"
   ]
  },
  {
   "cell_type": "code",
   "execution_count": 2,
   "metadata": {},
   "outputs": [],
   "source": [
    "# Defining a toy dataset\n",
    "x_train = np.array([[3.3], [4.4], [5.5], [6.71], [6.93], [4.168], \n",
    "                    [9.779], [6.182], [7.59], [2.167], [7.042], \n",
    "                    [10.791], [5.313], [7.997], [3.1]], dtype=np.float32)\n",
    "\n",
    "y_train = np.array([[1.7], [2.76], [2.09], [3.19], [1.694], [1.573], \n",
    "                    [3.366], [2.596], [2.53], [1.221], [2.827], \n",
    "                        [3.465], [1.65], [2.904], [1.3]], dtype=np.float32)"
   ]
  },
  {
   "cell_type": "markdown",
   "metadata": {},
   "source": [
    "## Linear regression"
   ]
  },
  {
   "cell_type": "markdown",
   "metadata": {},
   "source": [
    "Few notes:\n",
    "\n",
    "* If we use `matmul`, we can perform multiplication between matrix and 1D tensor\n",
    "* If using `mm`, we must use two matrices (i.e. convert $\\mathbf w$ to a $D\\times 1$ matrix)"
   ]
  },
  {
   "cell_type": "code",
   "execution_count": 80,
   "metadata": {},
   "outputs": [
    {
     "name": "stdout",
     "output_type": "stream",
     "text": [
      "Testing model: an input of [0. 1. 2.] gives a prediction:\n",
      " tensor(0., grad_fn=<AddBackward0>)\n"
     ]
    }
   ],
   "source": [
    "class MyLinearRegression:\n",
    "    def __init__(self, n_features):\n",
    "        self.w = torch.zeros(n_features + 1, requires_grad=True)\n",
    "    \n",
    "    def forward(self, x):\n",
    "        return x.matmul(self.w[1:]) + self.w[0]\n",
    "    \n",
    "    def parameters(self):\n",
    "        return [self.w]\n",
    "    \n",
    "    def __call__(self, x):\n",
    "        # Convenience function\n",
    "        return self.forward(x)\n",
    "    \n",
    "\n",
    "def mselossfunc(pred, y):\n",
    "    return (pred - y).pow(2).mean()\n",
    "\n",
    "numpy_inputs = np.asarray([0.0, 1.0, 2.0], dtype=np.float32)\n",
    "model = MyLinearRegression(len(numpy_inputs))\n",
    "\n",
    "torch_inputs = torch.from_numpy(numpy_inputs)\n",
    "torch_outputs = model(torch_inputs)\n",
    "print(\"Testing model: an input of %s gives a prediction:\\n %s\" % (numpy_inputs, torch_outputs))"
   ]
  },
  {
   "cell_type": "code",
   "execution_count": 81,
   "metadata": {},
   "outputs": [],
   "source": [
    "def train(features, labels, model, lossfunc, optimizer, num_epoch):\n",
    "    \n",
    "    x = torch.from_numpy(features)\n",
    "    y = torch.from_numpy(labels)\n",
    "\n",
    "    for epoch in range(num_epoch):\n",
    "        # TODO: Step 2 - compute model predictions and loss\n",
    "        # Forward propagation\n",
    "        yhat = model(x)\n",
    "        \n",
    "        # Loss\n",
    "        loss = lossfunc(yhat, y)\n",
    "        \n",
    "        # TODO: Step 3 - do a backward pass and a gradient update step\n",
    "        # Backprop\n",
    "        optimizer.zero_grad()\n",
    "        loss.backward()\n",
    "        optimizer.step()\n",
    "        \n",
    "        if epoch % 10 == 0:\n",
    "            print ('Epoch [%d/%d], Loss: %.4f' %(epoch+1, num_epoch, loss.item()))\n",
    "        \n",
    "        \n",
    "def visualize(x_train, y_train, model):\n",
    "    # A convenience function for visualizing predictions given by the model\n",
    "\n",
    "    predicted = model(torch.from_numpy(x_train)).data.numpy()\n",
    "    order = np.argsort(x_train, axis=0)\n",
    "    plt.plot(x_train[order].flatten(), y_train[order].flatten(), 'ro', label='Original data')\n",
    "    plt.plot(x_train[order].flatten(), predicted[order].flatten(), label='Fitted line')\n",
    "    plt.legend()\n",
    "    plt.show()"
   ]
  },
  {
   "cell_type": "code",
   "execution_count": 84,
   "metadata": {},
   "outputs": [
    {
     "name": "stdout",
     "output_type": "stream",
     "text": [
      "Epoch [1/50], Loss: 5.9467\n",
      "Epoch [11/50], Loss: 5.9467\n",
      "Epoch [21/50], Loss: 5.9467\n",
      "Epoch [31/50], Loss: 5.9467\n",
      "Epoch [41/50], Loss: 5.9467\n"
     ]
    },
    {
     "data": {
      "image/png": "[encoded data removed]",
      "text/plain": [
       "<Figure size 432x288 with 1 Axes>"
      ]
     },
     "metadata": {
      "needs_background": "light"
     },
     "output_type": "display_data"
    }
   ],
   "source": [
    "# Training and visualizing predictions made by linear regression model\n",
    "optimizer = torch.optim.SGD(model.parameters(), lr=1e-3)\n",
    "model = MyLinearRegression(x_train.shape[1])\n",
    "train(features=x_train,\n",
    "      labels=y_train,\n",
    "      model=model,\n",
    "      lossfunc=mselossfunc, \n",
    "      optimizer=optimizer,\n",
    "      num_epoch=50)\n",
    "visualize(x_train, y_train, model)"
   ]
  },
  {
   "cell_type": "markdown",
   "metadata": {},
   "source": [
    "## Linear Regression (using nn package)\n",
    "\n",
    "[Tutorial for custom nn modules](https://pytorch.org/tutorials/beginner/pytorch_with_examples.html#pytorch-custom-nn-modules)"
   ]
  },
  {
   "cell_type": "code",
   "execution_count": 85,
   "metadata": {},
   "outputs": [
    {
     "name": "stdout",
     "output_type": "stream",
     "text": [
      "Epoch [1/100], Loss: 1.3963\n",
      "Epoch [11/100], Loss: 0.3759\n",
      "Epoch [21/100], Loss: 0.2084\n",
      "Epoch [31/100], Loss: 0.1809\n",
      "Epoch [41/100], Loss: 0.1763\n",
      "Epoch [51/100], Loss: 0.1756\n",
      "Epoch [61/100], Loss: 0.1754\n",
      "Epoch [71/100], Loss: 0.1754\n",
      "Epoch [81/100], Loss: 0.1753\n",
      "Epoch [91/100], Loss: 0.1753\n"
     ]
    },
    {
     "name": "stderr",
     "output_type": "stream",
     "text": [
      "/home/maousi/anaconda3/envs/ml/lib/python3.8/site-packages/torch/nn/_reduction.py:44: UserWarning: size_average and reduce args will be deprecated, please use reduction='mean' instead.\n",
      "  warnings.warn(warning.format(ret))\n"
     ]
    },
    {
     "data": {
      "image/png": "[encoded data removed]",
      "text/plain": [
       "<Figure size 432x288 with 1 Axes>"
      ]
     },
     "metadata": {
      "needs_background": "light"
     },
     "output_type": "display_data"
    }
   ],
   "source": [
    "class NNLinearRegression(nn.Module):\n",
    "    def __init__(self):\n",
    "        super(NNLinearRegression, self).__init__()\n",
    "        # TODO: Define the parameters of the model (linear nn layer)\n",
    "        self.linear = nn.Linear(1, 1)\n",
    "    \n",
    "    def forward(self, x):\n",
    "        # TODO: implement forward computation\n",
    "        return self.linear(x)\n",
    "    \n",
    "# Training and visualizing predictions made by linear regression model (nn package)\n",
    "# TODO: use loss function from nn package\n",
    "lossfunc = nn.MSELoss(size_average=True)\n",
    "\n",
    "model = NNLinearRegression()\n",
    "\n",
    "optimizer = torch.optim.SGD(model.parameters(), lr=1e-3)\n",
    "\n",
    "train(features=x_train,\n",
    "      labels=y_train,\n",
    "      model=model,\n",
    "      lossfunc=lossfunc,\n",
    "      optimizer=optimizer,\n",
    "      num_epoch=100)\n",
    "visualize(x_train, y_train, model)"
   ]
  },
  {
   "cell_type": "markdown",
   "metadata": {},
   "source": [
    "## MLP"
   ]
  },
  {
   "cell_type": "code",
   "execution_count": 87,
   "metadata": {},
   "outputs": [],
   "source": [
    "import torch.nn.functional as F"
   ]
  },
  {
   "cell_type": "code",
   "execution_count": 102,
   "metadata": {},
   "outputs": [
    {
     "name": "stdout",
     "output_type": "stream",
     "text": [
      "Epoch [1/300], Loss: 7.3569\n",
      "Epoch [11/300], Loss: 0.4464\n",
      "Epoch [21/300], Loss: 0.4261\n",
      "Epoch [31/300], Loss: 0.4128\n",
      "Epoch [41/300], Loss: 0.4001\n",
      "Epoch [51/300], Loss: 0.3869\n",
      "Epoch [61/300], Loss: 0.3733\n",
      "Epoch [71/300], Loss: 0.3593\n",
      "Epoch [81/300], Loss: 0.3450\n",
      "Epoch [91/300], Loss: 0.3307\n",
      "Epoch [101/300], Loss: 0.3164\n",
      "Epoch [111/300], Loss: 0.3024\n",
      "Epoch [121/300], Loss: 0.2889\n",
      "Epoch [131/300], Loss: 0.2759\n",
      "Epoch [141/300], Loss: 0.2637\n",
      "Epoch [151/300], Loss: 0.2524\n",
      "Epoch [161/300], Loss: 0.2419\n",
      "Epoch [171/300], Loss: 0.2325\n",
      "Epoch [181/300], Loss: 0.2241\n",
      "Epoch [191/300], Loss: 0.2166\n",
      "Epoch [201/300], Loss: 0.2100\n",
      "Epoch [211/300], Loss: 0.2043\n",
      "Epoch [221/300], Loss: 0.1994\n",
      "Epoch [231/300], Loss: 0.1952\n",
      "Epoch [241/300], Loss: 0.1916\n",
      "Epoch [251/300], Loss: 0.1886\n",
      "Epoch [261/300], Loss: 0.1860\n",
      "Epoch [271/300], Loss: 0.1838\n",
      "Epoch [281/300], Loss: 0.1895\n",
      "Epoch [291/300], Loss: 0.2426\n"
     ]
    },
    {
     "data": {
      "image/png": "[encoded data removed]",
      "text/plain": [
       "<Figure size 432x288 with 1 Axes>"
      ]
     },
     "metadata": {
      "needs_background": "light"
     },
     "output_type": "display_data"
    }
   ],
   "source": [
    "class MLP(nn.Module):\n",
    "    def __init__(self, input_size, hidden_size):\n",
    "        super(MLP, self).__init__()\n",
    "        self.hidden = nn.Linear(input_size, hidden_size)\n",
    "        self.linear = nn.Linear(hidden_size, 1)\n",
    "    \n",
    "    def forward(self, x):\n",
    "        h_hat = torch.sigmoid(self.hidden(x))\n",
    "        yhat = self.linear(h_hat)\n",
    "        return yhat\n",
    "    \n",
    "# TODO: Play with learning rate, hidden size, and optimizer type for multi-layered perceptron\n",
    "hidden_size = 1\n",
    "learning_rate = 1e-1\n",
    "\n",
    "model = MLP(input_size=x_train.shape[1], hidden_size=hidden_size)\n",
    "\n",
    "optimizer = torch.optim.SGD(model.parameters(), lr=learning_rate)\n",
    "\n",
    "train(features=x_train,\n",
    "      labels=y_train,\n",
    "      model=model,\n",
    "      lossfunc=lossfunc,\n",
    "      optimizer=optimizer,\n",
    "      num_epoch=300)\n",
    "visualize(x_train, y_train, model)"
   ]
  },
  {
   "cell_type": "code",
   "execution_count": null,
   "metadata": {},
   "outputs": [],
   "source": []
  }
 ],
 "metadata": {
  "kernelspec": {
   "display_name": "Python 3",
   "language": "python",
   "name": "python3"
  },
  "language_info": {
   "codemirror_mode": {
    "name": "ipython",
    "version": 3
   },
   "file_extension": ".py",
   "mimetype": "text/x-python",
   "name": "python",
   "nbconvert_exporter": "python",
   "pygments_lexer": "ipython3",
   "version": "3.8.5"
  }
 },
 "nbformat": 4,
 "nbformat_minor": 4
}
