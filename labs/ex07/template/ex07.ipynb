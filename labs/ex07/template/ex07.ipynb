{
 "cells": [
  {
   "cell_type": "code",
   "execution_count": 1,
   "metadata": {},
   "outputs": [],
   "source": [
    "# Useful starting lines\n",
    "%matplotlib inline\n",
    "\n",
    "import random\n",
    "from datetime import datetime\n",
    "\n",
    "import numpy as np\n",
    "import matplotlib.pyplot as plt\n",
    "%load_ext autoreload\n",
    "%autoreload 2"
   ]
  },
  {
   "cell_type": "markdown",
   "metadata": {},
   "source": [
    "# Support Vector Machines\n",
    "## Classification Using SVM\n",
    "Load dataset. We will re-use the CERN dataset from project 1, available from https://inclass.kaggle.com/c/epfml-project-1/data"
   ]
  },
  {
   "cell_type": "code",
   "execution_count": 2,
   "metadata": {},
   "outputs": [
    {
     "name": "stdout",
     "output_type": "stream",
     "text": [
      "(5000,) (5000, 30)\n"
     ]
    }
   ],
   "source": [
    "from helpers import load_csv_data\n",
    "\n",
    "DATA_TRAIN_PATH = 'data/train.csv'\n",
    "\n",
    "y, X, ids = load_csv_data(DATA_TRAIN_PATH, sub_sample=True)\n",
    "print(y.shape, X.shape)"
   ]
  },
  {
   "cell_type": "markdown",
   "metadata": {},
   "source": [
    "## Prepare cost and prediction functions"
   ]
  },
  {
   "cell_type": "markdown",
   "metadata": {},
   "source": [
    "The primal objective for SVM is:\n",
    "\n",
    "$$\\mathcal L (\\mathbf w) = \\sum_{n=1}^N [1- y_n \\mathbf x_n^\\top \\mathbf w]_+ +  \\frac{\\lambda}{2}\\mathbf w^\\top \\mathbf w$$"
   ]
  },
  {
   "cell_type": "code",
   "execution_count": 3,
   "metadata": {},
   "outputs": [],
   "source": [
    "def calculate_primal_objective(y, X, w, lambda_):\n",
    "    \"\"\"compute the full cost (the primal objective), that is loss plus regularizer.\n",
    "    X: the full dataset matrix, shape = (num_examples, num_features)\n",
    "    y: the corresponding +1 or -1 labels, shape = (num_examples)\n",
    "    w: shape = (num_features)\n",
    "    \"\"\"\n",
    "    loss = np.maximum(0, (1 - y * X.dot(w))).sum()\n",
    "    reg = lambda_ / 2 * w.dot(w)\n",
    "    return loss + reg"
   ]
  },
  {
   "cell_type": "code",
   "execution_count": 4,
   "metadata": {},
   "outputs": [],
   "source": [
    "xtest = np.array([[0,1,-1]])\n",
    "wtest = np.array([-2,0,1])\n",
    "ytest = np.array([1])\n",
    "assert calculate_primal_objective(ytest, xtest, wtest, 0) == 2"
   ]
  },
  {
   "cell_type": "code",
   "execution_count": 5,
   "metadata": {},
   "outputs": [],
   "source": [
    "def calculate_accuracy(y, X, w):\n",
    "    \"\"\"compute the training accuracy on the training set (can be called for test set as well).\n",
    "    X: the full dataset matrix, shape = (num_examples, num_features)\n",
    "    y: the corresponding +1 or -1 labels, shape = (num_examples)\n",
    "    w: shape = (num_features)\n",
    "    \"\"\"\n",
    "    yhat = X.dot(w) >= 0\n",
    "    # Map to {-1, 1}\n",
    "    yhat = (yhat * 2) - 1\n",
    "    return (yhat == y).mean()"
   ]
  },
  {
   "cell_type": "markdown",
   "metadata": {},
   "source": [
    "## Stochastic Gradient Descent for SVM"
   ]
  },
  {
   "cell_type": "markdown",
   "metadata": {},
   "source": [
    "Compute the (stochastic) subgradient for the n-th summand of the SVM optimization objective"
   ]
  },
  {
   "cell_type": "markdown",
   "metadata": {},
   "source": [
    "---"
   ]
  },
  {
   "cell_type": "markdown",
   "metadata": {},
   "source": [
    "Given\n",
    "\n",
    "$$l:\\mathbb R \\rightarrow \\mathbb R, \\; z \\mapsto \\max(0, 1-z) = \n",
    "\\begin{cases}\n",
    "1 - z & \\text{if } z \\le 1\\\\\n",
    "0 & \\text{otherwise}\n",
    "\\end{cases}$$"
   ]
  },
  {
   "cell_type": "markdown",
   "metadata": {},
   "source": [
    "We have\n",
    "\n",
    "$$\\frac{\\partial l}{\\partial z} (z) = \\begin{cases}\n",
    "-1 & \\text{if } z < 1\\\\\n",
    "0&\\text{otherwise}\n",
    "\\end{cases}$$"
   ]
  },
  {
   "cell_type": "markdown",
   "metadata": {},
   "source": [
    "and is not defined for $z=1$. We thus have to compute the **subgradient**:\n",
    "\n",
    "$$\\partial l(z=1) \\in [-1; 0]$$"
   ]
  },
  {
   "cell_type": "markdown",
   "metadata": {},
   "source": [
    "We could theoretically pick any value. When $z=1$, we've just reached a value we are confident enough in so that we do not penalize it anymore. We might want a non-zero subgradient value for $z=1$ so that we have a bit more margin of confidence. Some value between -1 and 0 (e.g. -0.5) would probably be the best (?), but if we care about implementation efficiency, we should consider either -1 or 0."
   ]
  },
  {
   "cell_type": "markdown",
   "metadata": {},
   "source": [
    "Let's call $D_{l(z)}$ the gradient of $l$ where it is defined and $-1$ when it's not. Using the chain rule of derivation:\n",
    "\n",
    "$$D_{l(\\mathbf z = y_n\\mathbf x_n^\\top\\mathbf w)} = \\begin{cases}\n",
    "-y_n\\mathbf x_n & \\text{if } y_n\\mathbf x_n^\\top\\mathbf w \\le 1\\\\\n",
    "0 &\\text{otherwise}\n",
    "\\end{cases}$$"
   ]
  },
  {
   "cell_type": "markdown",
   "metadata": {},
   "source": [
    "---"
   ]
  },
  {
   "cell_type": "code",
   "execution_count": 6,
   "metadata": {},
   "outputs": [],
   "source": [
    "def calculate_stochastic_gradient(y, X, w, lambda_, n, num_examples):\n",
    "    \"\"\"compute the stochastic gradient of loss plus regularizer.\n",
    "    X: the dataset matrix, shape = (num_examples, num_features)\n",
    "    y: the corresponding +1 or -1 labels, shape = (num_examples)\n",
    "    w: shape = (num_features)\n",
    "    n: the index of the (one) datapoint we have sampled\n",
    "    num_examples: N\n",
    "    \"\"\"\n",
    "    # Be careful about the constant N (size) term!\n",
    "    # The complete objective for SVM is a sum, not an average as in earlier SGD examples!\n",
    "    x_n, y_n = X[n], y[n]\n",
    "    \n",
    "    # Save element-wise product to perform it only once\n",
    "    ynxn = y_n * x_n\n",
    "    non_zero_case = ynxn.dot(w) <= 1\n",
    "    \n",
    "    return non_zero_case * (-ynxn)"
   ]
  },
  {
   "cell_type": "markdown",
   "metadata": {},
   "source": [
    "Implement stochastic gradient descent: Pick a data point uniformly at random and update w based on the gradient for the n-th summand of the objective"
   ]
  },
  {
   "cell_type": "code",
   "execution_count": 7,
   "metadata": {},
   "outputs": [
    {
     "data": {
      "text/plain": [
       "array([ 1., -1., -1., ...,  1., -1.,  1.])"
      ]
     },
     "execution_count": 7,
     "metadata": {},
     "output_type": "execute_result"
    }
   ],
   "source": [
    "y"
   ]
  },
  {
   "cell_type": "code",
   "execution_count": 8,
   "metadata": {},
   "outputs": [
    {
     "name": "stdout",
     "output_type": "stream",
     "text": [
      "iteration=0\t\tcost=6987047896.023954\n",
      "iteration=10000\t\tcost=330894728.5735568\n",
      "iteration=20000\t\tcost=228510028.41491616\n",
      "iteration=30000\t\tcost=173654126.56441393\n",
      "iteration=40000\t\tcost=135148219.5388235\n",
      "iteration=50000\t\tcost=104912635.79342045\n",
      "iteration=60000\t\tcost=80118940.0152413\n",
      "iteration=70000\t\tcost=59311395.26359604\n",
      "iteration=80000\t\tcost=41128214.63988198\n",
      "iteration=90000\t\tcost=25564414.53088236\n",
      "training accuracy = 0.6128\n"
     ]
    }
   ],
   "source": [
    "def sgd_for_svm_demo(y, X):\n",
    "    \n",
    "    max_iter = 100000\n",
    "    gamma = 1\n",
    "    lambda_ = 0.01\n",
    "    \n",
    "    num_examples, num_features = X.shape\n",
    "    w = np.zeros(num_features)\n",
    "    \n",
    "    for it in range(max_iter):\n",
    "        # n = sample one data point uniformly at random data from x\n",
    "        n = random.randint(0,num_examples-1)\n",
    "        \n",
    "        grad = calculate_stochastic_gradient(y, X, w, lambda_, n, num_examples)\n",
    "        w -= gamma/(it+1) * grad\n",
    "        \n",
    "        if it % 10000 == 0:\n",
    "            cost = calculate_primal_objective(y, X, w, lambda_)\n",
    "            print(\"iteration={i}\\t\\tcost={c}\".format(i=it, c=cost))\n",
    "    \n",
    "    print(\"training accuracy = {l}\".format(l=calculate_accuracy(y, X, w)))\n",
    "\n",
    "sgd_for_svm_demo(y, X)"
   ]
  },
  {
   "cell_type": "markdown",
   "metadata": {},
   "source": [
    "## Coordinate Descent (Ascent) for SVM"
   ]
  },
  {
   "cell_type": "markdown",
   "metadata": {},
   "source": [
    "Compute the closed-form update for the n-th variable alpha, in the dual optimization problem, given alpha and the current corresponding w"
   ]
  },
  {
   "cell_type": "markdown",
   "metadata": {},
   "source": [
    "---"
   ]
  },
  {
   "cell_type": "markdown",
   "metadata": {},
   "source": [
    "**Dual optimization problem**: \n",
    "\n",
    "$$L(\\mathbf \\alpha) = \\mathbf \\alpha^\\top \\mathbf 1 - \\frac{1}{2\\lambda} YXX^\\top Y \\alpha, \\quad 0 \\le \\alpha_n \\le 1 \\; \\forall n$$"
   ]
  },
  {
   "cell_type": "markdown",
   "metadata": {},
   "source": [
    "where $Y := \\text{diag}(\\mathbf y)$ and $X\\in \\mathbb R^{N\\times D}$. I just conveniently introducted the notation $L$, which is not the loss. Actually, it is related to the loss via the formula:\n",
    "\n",
    "$$\\min_{\\mathbf w} \\mathcal L (\\mathbf w) = \\max_{\\mathbf \\alpha \\in \\mathbb [0;1]^N} L (\\mathbf \\alpha)$$"
   ]
  },
  {
   "cell_type": "markdown",
   "metadata": {},
   "source": [
    "We first optimize over the dual variable $\\mathbf \\alpha$ and then map the solution back to $\\mathbf w$:\n",
    "\n",
    "$$\\begin{align}\n",
    "\\mathbf \\alpha^\\star &= \\arg\\max_{\\mathbf \\alpha \\in \\mathbb [0;1]^N} L_{\\mathbf \\alpha}(\\mathbf w)\\\\\n",
    "\\mathbf w^\\star &= X^\\top \\mathbf \\alpha^\\star\n",
    "\\end{align}$$"
   ]
  },
  {
   "cell_type": "markdown",
   "metadata": {},
   "source": [
    "We want to perform **coordinate descent** for SVM. For every iteration, we pick a coordinate $n\\in[N]$ uniformly at random and maximize the objective $L_{\\mathbf\\alpha}(\\mathbf w)$ w.r.t. $n$ alone. After updating the coordinate $\\alpha_n$, we update the corresponding primal vector $\\mathbf w$ s.t. the first-order correspondence is maintained: \n",
    "\n",
    "$$\\mathbf w = \\mathbf w(\\mathbf\\alpha) := \\frac{1}{\\lambda} X^\\top Y \\mathbf \\alpha$$"
   ]
  },
  {
   "cell_type": "markdown",
   "metadata": {},
   "source": [
    "The **closed-form solution to maximization over the single coordinate $n$**:\n",
    "\n",
    "$$\\begin{align}\n",
    "L(\\alpha_n) &= 1 - \\frac{1}{2\\lambda} \\alpha_n^2 \\mathbf x_n^\\top \\mathbf x_n y_n\\\\\n",
    "\\Rightarrow \\alpha_n^\\star &= \\lambda \\left[\\mathbf x_n^\\top \\mathbf x_n y_n\\right]^{-1}\n",
    "\\end{align}$$"
   ]
  },
  {
   "cell_type": "markdown",
   "metadata": {},
   "source": [
    "We have to update the whole $\\mathbf w$ vector (we can't update just a single component once a single $\\alpha_n$ was updated):\n",
    "\n",
    "$$\\mathbf w ^\\star = \\frac{1}{\\lambda} X^\\top Y \\mathbf \\alpha = \\frac{1}{\\lambda} X^\\top \\left(\\mathbf y \\odot \\mathbf \\alpha^\\star \\right)$$"
   ]
  },
  {
   "cell_type": "markdown",
   "metadata": {},
   "source": [
    "because every component of $w_j$ depends on the new $\\alpha_n$. $\\odot$ is the element-wise product."
   ]
  },
  {
   "cell_type": "markdown",
   "metadata": {},
   "source": [
    "---"
   ]
  },
  {
   "cell_type": "code",
   "execution_count": 10,
   "metadata": {},
   "outputs": [],
   "source": [
    "def calculate_coordinate_update(y, X, lambda_, alpha, w, n):\n",
    "    \"\"\"compute a coordinate update (closed form) for coordinate n.\n",
    "    X: the dataset matrix, shape = (num_examples, num_features)\n",
    "    y: the corresponding +1 or -1 labels, shape = (num_examples)\n",
    "    w: shape = (num_features)\n",
    "    n: the coordinate to be updated\n",
    "    \"\"\"\n",
    "    # ***************************************************\n",
    "    # INSERT YOUR CODE HERE\n",
    "    # TODO\n",
    "    # ***************************************************\n",
    "    # calculate the update of coordinate at index=n.\n",
    "    x_n, y_n = X[n], y[n]\n",
    "    #old_alpha_n = np.copy(alpha[n])\n",
    "    \n",
    "    alpha_n = lambda_ / (x_n.dot(x_n) * y_n)\n",
    "    alpha = np.copy(alpha)\n",
    "    alpha[n] = alpha_n\n",
    "    \n",
    "    w = 1/lambda_ * X.T.dot(y * alpha)\n",
    "    \n",
    "    return w, alpha"
   ]
  },
  {
   "cell_type": "code",
   "execution_count": 11,
   "metadata": {},
   "outputs": [],
   "source": [
    "def calculate_dual_objective(y, X, w, alpha, lambda_):\n",
    "    \"\"\"calculate the objective for the dual problem.\"\"\"\n",
    "    alpha_times_y = alpha * y\n",
    "    return alpha.sum() - 1/2/lambda_ * alpha_times_y.T.dot(X).dot(X.T).dot(alpha_times_y)"
   ]
  },
  {
   "cell_type": "code",
   "execution_count": 12,
   "metadata": {},
   "outputs": [
    {
     "name": "stdout",
     "output_type": "stream",
     "text": [
      "iteration=0, primal:6588.30030, dual:-0.00000, gap:6588.30030\n",
      "iteration=10000, primal:5470019.92425, dual:-0.02034, gap:5470019.94460\n",
      "iteration=20000, primal:6154389.12950, dual:-0.02678, gap:6154389.15628\n",
      "iteration=30000, primal:6262852.24022, dual:-0.02754, gap:6262852.26776\n",
      "iteration=40000, primal:6263997.16100, dual:-0.02774, gap:6263997.18874\n",
      "iteration=50000, primal:6263997.16100, dual:-0.02774, gap:6263997.18874\n",
      "iteration=60000, primal:6263997.16100, dual:-0.02774, gap:6263997.18874\n",
      "iteration=70000, primal:6263997.16100, dual:-0.02774, gap:6263997.18874\n",
      "iteration=80000, primal:6263997.16100, dual:-0.02774, gap:6263997.18874\n",
      "iteration=90000, primal:6263997.16100, dual:-0.02774, gap:6263997.18874\n",
      "training accuracy = 0.3288\n"
     ]
    }
   ],
   "source": [
    "def coordinate_descent_for_svm_demo(y, X):\n",
    "    max_iter = 100000\n",
    "    lambda_ = 0.01\n",
    "\n",
    "    num_examples, num_features = X.shape\n",
    "    w = np.zeros(num_features)\n",
    "    alpha = np.zeros(num_examples)\n",
    "    \n",
    "    for it in range(max_iter):\n",
    "        # n = sample one data point uniformly at random data from x\n",
    "        n = random.randint(0,num_examples-1)\n",
    "        \n",
    "        w, alpha = calculate_coordinate_update(y, X, lambda_, alpha, w, n)\n",
    "            \n",
    "        if it % 10000 == 0:\n",
    "            # primal objective\n",
    "            primal_value = calculate_primal_objective(y, X, w, lambda_)\n",
    "            # dual objective\n",
    "            dual_value = calculate_dual_objective(y, X, w, alpha, lambda_)\n",
    "            # primal dual gap\n",
    "            duality_gap = primal_value - dual_value\n",
    "            print('iteration=%i, primal:%.5f, dual:%.5f, gap:%.5f'%(\n",
    "                    it, primal_value, dual_value, duality_gap))\n",
    "    print(\"training accuracy = {l}\".format(l=calculate_accuracy(y, X, w)))\n",
    "\n",
    "coordinate_descent_for_svm_demo(y, X)"
   ]
  },
  {
   "cell_type": "code",
   "execution_count": null,
   "metadata": {
    "collapsed": true,
    "jupyter": {
     "outputs_hidden": true
    }
   },
   "outputs": [],
   "source": []
  }
 ],
 "metadata": {
  "anaconda-cloud": {},
  "kernelspec": {
   "display_name": "Python 3",
   "language": "python",
   "name": "python3"
  },
  "language_info": {
   "codemirror_mode": {
    "name": "ipython",
    "version": 3
   },
   "file_extension": ".py",
   "mimetype": "text/x-python",
   "name": "python",
   "nbconvert_exporter": "python",
   "pygments_lexer": "ipython3",
   "version": "3.8.5"
  }
 },
 "nbformat": 4,
 "nbformat_minor": 4
}
