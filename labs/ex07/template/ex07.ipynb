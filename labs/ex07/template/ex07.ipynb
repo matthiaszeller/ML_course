{
 "cells": [
  {
   "cell_type": "code",
   "execution_count": 3,
   "metadata": {},
   "outputs": [],
   "source": [
    "# Useful starting lines\n",
    "%matplotlib inline\n",
    "\n",
    "import random\n",
    "from datetime import datetime\n",
    "\n",
    "import numpy as np\n",
    "import matplotlib.pyplot as plt\n",
    "%load_ext autoreload\n",
    "%autoreload 2"
   ]
  },
  {
   "cell_type": "markdown",
   "metadata": {},
   "source": [
    "# Support Vector Machines\n",
    "## Classification Using SVM\n",
    "Load dataset. We will use a toy dataset from sklearn."
   ]
  },
  {
   "cell_type": "code",
   "execution_count": 4,
   "metadata": {},
   "outputs": [
    {
     "name": "stdout",
     "output_type": "stream",
     "text": [
      "(N, D) = (569, 31)\n"
     ]
    }
   ],
   "source": [
    "from sklearn import datasets\n",
    "\n",
    "#Load dataset\n",
    "sklearn_dataset = datasets.load_breast_cancer()\n",
    "Xx  = sklearn_dataset.data\n",
    "y = sklearn_dataset.target * 2 - 1    # labels must be in {-1, 1} for the hinge loss\n",
    "X = np.ones((Xx.shape[0], Xx.shape[1] + 1 ))    # add a column of ones for intercept\n",
    "X[:, :-1] = Xx\n",
    "print(\"(N, D) =\", X.shape)"
   ]
  },
  {
   "cell_type": "markdown",
   "metadata": {},
   "source": [
    "## Prepare cost and prediction functions"
   ]
  },
  {
   "cell_type": "markdown",
   "metadata": {},
   "source": [
    "The primal objective for SVM is:\n",
    "\n",
    "$$\\mathcal L (\\mathbf w) = \\sum_{n=1}^N [1- y_n \\mathbf x_n^\\top \\mathbf w]_+ +  \\frac{\\lambda}{2}\\mathbf w^\\top \\mathbf w$$"
   ]
  },
  {
   "cell_type": "code",
   "execution_count": 5,
   "metadata": {},
   "outputs": [],
   "source": [
    "def calculate_primal_objective(y, X, w, lambda_):\n",
    "    \"\"\"compute the full cost (the primal objective), that is loss plus regularizer.\n",
    "    X: the full dataset matrix, shape = (num_examples, num_features)\n",
    "    y: the corresponding +1 or -1 labels, shape = (num_examples)\n",
    "    w: shape = (num_features)\n",
    "    \"\"\"\n",
    "    loss = np.maximum(0, (1 - y * X.dot(w))).sum()\n",
    "    reg = lambda_ / 2 * w.dot(w)\n",
    "    return loss + reg"
   ]
  },
  {
   "cell_type": "code",
   "execution_count": 6,
   "metadata": {},
   "outputs": [],
   "source": [
    "xtest = np.array([[0,1,-1]])\n",
    "wtest = np.array([-2,0,1])\n",
    "ytest = np.array([1])\n",
    "assert calculate_primal_objective(ytest, xtest, wtest, 0) == 2"
   ]
  },
  {
   "cell_type": "code",
   "execution_count": 7,
   "metadata": {},
   "outputs": [],
   "source": [
    "def calculate_accuracy(y, X, w):\n",
    "    \"\"\"compute the training accuracy on the training set (can be called for test set as well).\n",
    "    X: the full dataset matrix, shape = (num_examples, num_features)\n",
    "    y: the corresponding +1 or -1 labels, shape = (num_examples)\n",
    "    w: shape = (num_features)\n",
    "    \"\"\"\n",
    "    yhat = X.dot(w) >= 0\n",
    "    # Map to {-1, 1}\n",
    "    yhat = (yhat * 2) - 1\n",
    "    return (yhat == y).mean()"
   ]
  },
  {
   "cell_type": "markdown",
   "metadata": {},
   "source": [
    "## Stochastic Gradient Descent for SVM"
   ]
  },
  {
   "cell_type": "markdown",
   "metadata": {},
   "source": [
    "Compute the (stochastic) subgradient for the n-th summand of the SVM optimization objective"
   ]
  },
  {
   "cell_type": "markdown",
   "metadata": {},
   "source": [
    "---"
   ]
  },
  {
   "cell_type": "markdown",
   "metadata": {},
   "source": [
    "Given\n",
    "\n",
    "$$l:\\mathbb R \\rightarrow \\mathbb R, \\; z \\mapsto \\max(0, 1-z) = \n",
    "\\begin{cases}\n",
    "1 - z & \\text{if } z \\le 1\\\\\n",
    "0 & \\text{otherwise}\n",
    "\\end{cases}$$"
   ]
  },
  {
   "cell_type": "markdown",
   "metadata": {},
   "source": [
    "We have\n",
    "\n",
    "$$\\frac{\\partial l}{\\partial z} (z) = \\begin{cases}\n",
    "-1 & \\text{if } z < 1\\\\\n",
    "0&\\text{otherwise}\n",
    "\\end{cases}$$"
   ]
  },
  {
   "cell_type": "markdown",
   "metadata": {},
   "source": [
    "and is not defined for $z=1$. We thus have to compute the **subgradient**:\n",
    "\n",
    "$$\\partial l(z=1) \\in [-1; 0]$$"
   ]
  },
  {
   "cell_type": "markdown",
   "metadata": {},
   "source": [
    "We could theoretically pick any value. When $z=1$, we've just reached a value we are confident enough in so that we do not penalize it anymore. We might want a non-zero subgradient value for $z=1$ so that we have a bit more margin of confidence. Some value between -1 and 0 (e.g. -0.5) would probably be the best (?), but if we care about implementation efficiency, we should consider either -1 or 0."
   ]
  },
  {
   "cell_type": "markdown",
   "metadata": {},
   "source": [
    "Let's call $D_{l(z)}$ the gradient of $l$ where it is defined and $-1$ when it's not. Using the chain rule of derivation:\n",
    "\n",
    "$$D_{l(\\mathbf z = y_n\\mathbf x_n^\\top\\mathbf w)} = \\begin{cases}\n",
    "-y_n\\mathbf x_n & \\text{if } y_n\\mathbf x_n^\\top\\mathbf w \\le 1\\\\\n",
    "0 &\\text{otherwise}\n",
    "\\end{cases}$$"
   ]
  },
  {
   "cell_type": "markdown",
   "metadata": {},
   "source": [
    "---"
   ]
  },
  {
   "cell_type": "code",
   "execution_count": 8,
   "metadata": {},
   "outputs": [],
   "source": [
    "def calculate_stochastic_gradient(y, X, w, lambda_, n, num_examples):\n",
    "    \"\"\"compute the stochastic gradient of loss plus regularizer.\n",
    "    X: the dataset matrix, shape = (num_examples, num_features)\n",
    "    y: the corresponding +1 or -1 labels, shape = (num_examples)\n",
    "    w: shape = (num_features)\n",
    "    n: the index of the (one) datapoint we have sampled\n",
    "    num_examples: N\n",
    "    \"\"\"\n",
    "    # Be careful about the constant N (size) term!\n",
    "    # The complete objective for SVM is a sum, not an average as in earlier SGD examples!\n",
    "    x_n, y_n = X[n], y[n]\n",
    "    \n",
    "    # Save element-wise product to perform it only once\n",
    "    ynxn = y_n * x_n\n",
    "    non_zero_case = ynxn.dot(w) <= 1\n",
    "    \n",
    "    return non_zero_case * (-ynxn)"
   ]
  },
  {
   "cell_type": "markdown",
   "metadata": {},
   "source": [
    "Implement stochastic gradient descent: Pick a data point uniformly at random and update w based on the gradient for the n-th summand of the objective"
   ]
  },
  {
   "cell_type": "code",
   "execution_count": 9,
   "metadata": {},
   "outputs": [
    {
     "name": "stdout",
     "output_type": "stream",
     "text": [
      "iteration=0\t\tcost=27066.623134253427\n",
      "iteration=10000\t\tcost=189.15199743233316\n",
      "iteration=20000\t\tcost=184.66280647437662\n",
      "iteration=30000\t\tcost=181.10636971056587\n",
      "iteration=40000\t\tcost=179.37656683298607\n",
      "iteration=50000\t\tcost=178.14760046011654\n",
      "iteration=60000\t\tcost=177.95644273859145\n",
      "iteration=70000\t\tcost=176.26779852168\n",
      "iteration=80000\t\tcost=175.56857472672067\n",
      "iteration=90000\t\tcost=175.2921848382444\n",
      "iteration=100000\t\tcost=174.50550104168371\n",
      "iteration=110000\t\tcost=174.21786089935196\n",
      "iteration=120000\t\tcost=173.60987458774687\n",
      "iteration=130000\t\tcost=173.25976713469763\n",
      "iteration=140000\t\tcost=172.916035326084\n",
      "iteration=150000\t\tcost=172.69622051738588\n",
      "iteration=160000\t\tcost=172.3507235687213\n",
      "iteration=170000\t\tcost=172.03932105643509\n",
      "iteration=180000\t\tcost=171.7956805766345\n",
      "iteration=190000\t\tcost=171.5590955343336\n",
      "training accuracy = 0.9050966608084359\n"
     ]
    }
   ],
   "source": [
    "def sgd_for_svm_demo(y, X):\n",
    "    \n",
    "    max_iter = 2 * int(1e5)\n",
    "    gamma = 1e-4\n",
    "    lambda_ = int(1e4)   # big because scales with N due to the formulation of the problem (not an averaged loss)\n",
    "    \n",
    "    num_examples, num_features = X.shape\n",
    "    w = np.zeros(num_features)\n",
    "    \n",
    "    for it in range(max_iter):\n",
    "        # n = sample one data point uniformly at random data from x\n",
    "        n = random.randint(0,num_examples-1)\n",
    "        \n",
    "        grad = calculate_stochastic_gradient(y, X, w, lambda_, n, num_examples)\n",
    "        w -= gamma/(it+1) * grad\n",
    "        \n",
    "        if it % 10000 == 0:\n",
    "            cost = calculate_primal_objective(y, X, w, lambda_)\n",
    "            print(\"iteration={i}\\t\\tcost={c}\".format(i=it, c=cost))\n",
    "    \n",
    "    print(\"training accuracy = {l}\".format(l=calculate_accuracy(y, X, w)))\n",
    "\n",
    "sgd_for_svm_demo(y, X)"
   ]
  },
  {
   "cell_type": "markdown",
   "metadata": {},
   "source": [
    "## Coordinate Descent (Ascent) for SVM"
   ]
  },
  {
   "cell_type": "markdown",
   "metadata": {},
   "source": [
    "Compute the closed-form update for the n-th variable alpha, in the dual optimization problem, given alpha and the current corresponding w"
   ]
  },
  {
   "cell_type": "markdown",
   "metadata": {},
   "source": [
    "---"
   ]
  },
  {
   "cell_type": "markdown",
   "metadata": {},
   "source": [
    "**Dual optimization problem**: \n",
    "\n",
    "$$f(\\mathbf \\alpha) = \\mathbf \\alpha^\\top \\mathbf 1 - \\frac{1}{2\\lambda} YXX^\\top Y \\alpha, \\quad 0 \\le \\alpha_n \\le 1 \\; \\forall n$$"
   ]
  },
  {
   "cell_type": "markdown",
   "metadata": {},
   "source": [
    "where $Y := \\text{diag}(\\mathbf y)$ and $X\\in \\mathbb R^{N\\times D}$. The function $f$ is related to the loss via the formula:\n",
    "\n",
    "$$\\min_{\\mathbf w} \\mathcal L (\\mathbf w) = \\max_{\\mathbf \\alpha \\in \\mathbb [0;1]^N} f (\\mathbf \\alpha)$$"
   ]
  },
  {
   "cell_type": "markdown",
   "metadata": {},
   "source": [
    "We first optimize over the dual variable $\\mathbf \\alpha$ and then map the solution back to $\\mathbf w$:\n",
    "\n",
    "$$\\begin{align}\n",
    "\\mathbf \\alpha^\\star &= \\arg\\max_{\\mathbf \\alpha \\in \\mathbb [0;1]^N} f(\\mathbf\\alpha)\\\\\n",
    "\\mathbf w^\\star &= X^\\top Y \\mathbf \\alpha^\\star\n",
    "\\end{align}$$"
   ]
  },
  {
   "cell_type": "markdown",
   "metadata": {},
   "source": [
    "We want to perform **coordinate descent** for SVM. For every iteration, we pick a coordinate $n\\in[N]$ uniformly at random and maximize the objective "
   ]
  },
  {
   "cell_type": "markdown",
   "metadata": {},
   "source": [
    "$$\\max_{\\gamma\\in\\mathbb R} f(\\mathbf\\alpha + \\gamma \\mathbf e_n) \\quad \\text{such that } 0 \\le \\alpha_n+\\gamma \\le 1$$"
   ]
  },
  {
   "cell_type": "markdown",
   "metadata": {},
   "source": [
    "The derivation is pretty cumbersome to report here, see the solutions of lab 7 instead :)."
   ]
  },
  {
   "cell_type": "markdown",
   "metadata": {},
   "source": [
    "---"
   ]
  },
  {
   "cell_type": "code",
   "execution_count": 35,
   "metadata": {},
   "outputs": [],
   "source": [
    "def calculate_coordinate_update(y, X, lambda_, alpha, w, n):\n",
    "    \"\"\"compute a coordinate update (closed form) for coordinate n.\n",
    "    X: the dataset matrix, shape = (num_examples, num_features)\n",
    "    y: the corresponding +1 or -1 labels, shape = (num_examples)\n",
    "    w: shape = (num_features)\n",
    "    n: the coordinate to be updated\n",
    "    \"\"\"\n",
    "    x_n, y_n = X[n], y[n]\n",
    "    old_alpha_n = np.copy(alpha[n])\n",
    "    \n",
    "    gamma = lambda_ / x_n.dot(x_n) * (1 - y_n * x_n.T.dot(w))\n",
    "    \n",
    "    alpha_n = old_alpha_n + gamma\n",
    "    # Constraint: project alpha_n to [0, 1]\n",
    "    alpha_n = np.clip(alpha_n, 0, 1)\n",
    "    alpha[n] = alpha_n\n",
    "    \n",
    "    \n",
    "    \n",
    "    return w, alpha"
   ]
  },
  {
   "cell_type": "markdown",
   "metadata": {},
   "source": [
    "Since we have\n",
    "\n",
    "$$\\mathbf w = \\frac 1 \\lambda X^\\top Y \\mathbf \\alpha$$"
   ]
  },
  {
   "cell_type": "markdown",
   "metadata": {},
   "source": [
    "we can rewrite a part of the dual objective:\n",
    "\n",
    "$$\\begin{align}\n",
    "\\frac 1 {2\\lambda} \\mathbf \\alpha^\\top YXX^\\top Y \\mathbf \\alpha \n",
    "&= \\frac 1 {2\\lambda} \\left(\\mathbf \\alpha^\\top YX\\right) \\left(X^\\top Y \\mathbf \\alpha \\right)\\\\\n",
    "&= \\frac 1 {2\\lambda} \\left(X^\\top Y \\mathbf \\alpha \\right)^\\top \\left(X^\\top Y \\mathbf \\alpha \\right)\\\\\n",
    "&= \\frac \\lambda 2 \\mathbf w ^\\top \\mathbf w\n",
    "\\end{align}$$"
   ]
  },
  {
   "cell_type": "markdown",
   "metadata": {},
   "source": [
    "so that\n",
    "\n",
    "$$f(\\mathbf \\alpha) = \\mathbf \\alpha ^\\top \\mathbf 1 - \\frac \\lambda 2 \\mathbf w^\\top \\mathbf w$$"
   ]
  },
  {
   "cell_type": "code",
   "execution_count": 31,
   "metadata": {},
   "outputs": [],
   "source": [
    "def calculate_dual_objective(y, X, w, alpha, lambda_):\n",
    "    \"\"\"calculate the objective for the dual problem.\"\"\"\n",
    "    return alpha.sum() - lambda_ / 2.0 * w.T.dot(w)"
   ]
  },
  {
   "cell_type": "code",
   "execution_count": 36,
   "metadata": {},
   "outputs": [
    {
     "name": "stdout",
     "output_type": "stream",
     "text": [
      "iteration=0, primal:569.00000, dual:0.01244, gap:568.98756\n",
      "iteration=10000, primal:569.00000, dual:162.91750, gap:406.08250\n",
      "iteration=20000, primal:569.00000, dual:279.24576, gap:289.75424\n",
      "iteration=30000, primal:569.00000, dual:354.12922, gap:214.87078\n",
      "iteration=40000, primal:569.00000, dual:401.11057, gap:167.88943\n",
      "iteration=50000, primal:569.00000, dual:432.09847, gap:136.90153\n",
      "iteration=60000, primal:569.00000, dual:453.38778, gap:115.61222\n",
      "iteration=70000, primal:569.00000, dual:468.38368, gap:100.61632\n",
      "iteration=80000, primal:569.00000, dual:479.80254, gap:89.19746\n",
      "iteration=90000, primal:569.00000, dual:488.63511, gap:80.36489\n",
      "iteration=100000, primal:569.00000, dual:496.48992, gap:72.51008\n",
      "iteration=110000, primal:569.00000, dual:503.25589, gap:65.74411\n",
      "iteration=120000, primal:569.00000, dual:509.22739, gap:59.77261\n",
      "iteration=130000, primal:569.00000, dual:514.88494, gap:54.11506\n",
      "iteration=140000, primal:569.00000, dual:520.01306, gap:48.98694\n",
      "iteration=150000, primal:569.00000, dual:524.75735, gap:44.24265\n",
      "iteration=160000, primal:569.00000, dual:528.68777, gap:40.31223\n",
      "iteration=170000, primal:569.00000, dual:532.45121, gap:36.54879\n",
      "iteration=180000, primal:569.00000, dual:535.66020, gap:33.33980\n",
      "iteration=190000, primal:569.00000, dual:538.73615, gap:30.26385\n",
      "training accuracy = 0.6274165202108963\n"
     ]
    }
   ],
   "source": [
    "def coordinate_descent_for_svm_demo(y, X):\n",
    "    max_iter = 2*int(1e5)\n",
    "    lambda_ = int(1e4)   # use same lambda as before in order to compare\n",
    "\n",
    "    num_examples, num_features = X.shape\n",
    "    w = np.zeros(num_features)\n",
    "    alpha = np.zeros(num_examples)\n",
    "    \n",
    "    for it in range(max_iter):\n",
    "        # n = sample one data point uniformly at random data from x\n",
    "        n = random.randint(0,num_examples-1)\n",
    "        \n",
    "        w, alpha = calculate_coordinate_update(y, X, lambda_, alpha, w, n)\n",
    "            \n",
    "        if it % 10000 == 0:\n",
    "            # primal objective\n",
    "            primal_value = calculate_primal_objective(y, X, w, lambda_)\n",
    "            # dual objective\n",
    "            dual_value = calculate_dual_objective(y, X, w, alpha, lambda_)\n",
    "            # primal dual gap\n",
    "            duality_gap = primal_value - dual_value\n",
    "            print('iteration=%i, primal:%.5f, dual:%.5f, gap:%.5f'%(\n",
    "                    it, primal_value, dual_value, duality_gap))\n",
    "    print(\"training accuracy = {l}\".format(l=calculate_accuracy(y, X, w)))\n",
    "\n",
    "coordinate_descent_for_svm_demo(y, X)"
   ]
  },
  {
   "cell_type": "code",
   "execution_count": null,
   "metadata": {
    "collapsed": true,
    "jupyter": {
     "outputs_hidden": true
    }
   },
   "outputs": [],
   "source": []
  }
 ],
 "metadata": {
  "anaconda-cloud": {},
  "kernelspec": {
   "display_name": "Python 3",
   "language": "python",
   "name": "python3"
  },
  "language_info": {
   "codemirror_mode": {
    "name": "ipython",
    "version": 3
   },
   "file_extension": ".py",
   "mimetype": "text/x-python",
   "name": "python",
   "nbconvert_exporter": "python",
   "pygments_lexer": "ipython3",
   "version": "3.8.5"
  }
 },
 "nbformat": 4,
 "nbformat_minor": 4
}
